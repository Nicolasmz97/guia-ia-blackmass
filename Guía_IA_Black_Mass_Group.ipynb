{
  "nbformat": 4,
  "nbformat_minor": 0,
  "metadata": {
    "colab": {
      "provenance": [],
      "authorship_tag": "ABX9TyMee9S8CPzqCZLToMgmPICg",
      "include_colab_link": true
    },
    "kernelspec": {
      "name": "python3",
      "display_name": "Python 3"
    },
    "language_info": {
      "name": "python"
    }
  },
  "cells": [
    {
      "cell_type": "markdown",
      "metadata": {
        "id": "view-in-github",
        "colab_type": "text"
      },
      "source": [
        "<a href=\"https://colab.research.google.com/github/Nicolasmz97/guia-ia-blackmass/blob/main/Gu%C3%ADa_IA_Black_Mass_Group.ipynb\" target=\"_parent\"><img src=\"https://colab.research.google.com/assets/colab-badge.svg\" alt=\"Open In Colab\"/></a>"
      ]
    },
    {
      "cell_type": "code",
      "execution_count": null,
      "metadata": {
        "colab": {
          "base_uri": "https://localhost:8080/"
        },
        "id": "VUwIItE6Yw51",
        "outputId": "731bea2f-a2b3-42ce-a734-da0d914f56ea"
      },
      "outputs": [
        {
          "output_type": "stream",
          "name": "stdout",
          "text": [
            "Hola, Inteligencia Artificial para negocios 🚀\n"
          ]
        }
      ],
      "source": [
        "print(\"Hola, Inteligencia Artificial para negocios 🚀\")"
      ]
    },
    {
      "cell_type": "code",
      "source": [
        "ventas_void = 890000\n",
        "\n",
        "if ventas_void > 900000:\n",
        "    print(\"Void está rindiendo bien\")\n",
        "else:\n",
        "    print(\"Hay que revisar la estrategia\")\n"
      ],
      "metadata": {
        "colab": {
          "base_uri": "https://localhost:8080/"
        },
        "id": "hTc4lxKxY0yY",
        "outputId": "6e8fc643-35d5-459d-e5b9-5b7fcb0c6f92"
      },
      "execution_count": null,
      "outputs": [
        {
          "output_type": "stream",
          "name": "stdout",
          "text": [
            "Hay que revisar la estrategia\n"
          ]
        }
      ]
    },
    {
      "cell_type": "code",
      "source": [],
      "metadata": {
        "id": "hWCNrYSseNv0"
      },
      "execution_count": null,
      "outputs": []
    },
    {
      "cell_type": "code",
      "source": [
        "ventas_void = [850000,920000,870000,990000,75000]\n",
        "for venta in ventas_void:\n",
        "  if venta>900000:\n",
        "    print(\"Void va bien - venta de,\",venta)\n",
        "  else:\n",
        "    print(\"hay que revisar la estrategia - venta de\",venta)"
      ],
      "metadata": {
        "colab": {
          "base_uri": "https://localhost:8080/"
        },
        "id": "Nu2XLDqJcC3z",
        "outputId": "e4a7581a-d21c-41b3-f8e6-21d7753495b2"
      },
      "execution_count": null,
      "outputs": [
        {
          "output_type": "stream",
          "name": "stdout",
          "text": [
            "hay que revisar la estrategia - venta de 850000\n",
            "Void va bien - venta de, 920000\n",
            "hay que revisar la estrategia - venta de 870000\n",
            "Void va bien - venta de, 990000\n",
            "hay que revisar la estrategia - venta de 75000\n"
          ]
        }
      ]
    },
    {
      "cell_type": "code",
      "source": [
        "gastos_void = [250000,120000,380000,80000,600000]\n",
        "for gasto in gastos_void:\n",
        "  if gasto>300000:\n",
        "    print(\"Gasto alto\", gasto)\n",
        "  else:\n",
        "    print(\"Gasto controlado\", gasto)\n",
        "\n"
      ],
      "metadata": {
        "colab": {
          "base_uri": "https://localhost:8080/"
        },
        "id": "QflY-fL1t_Wj",
        "outputId": "94d7dc8b-d43a-4fae-d800-1d6d6c9f8702"
      },
      "execution_count": null,
      "outputs": [
        {
          "output_type": "stream",
          "name": "stdout",
          "text": [
            "Gasto controlado 250000\n",
            "Gasto controlado 120000\n",
            "Gasto alto 380000\n",
            "Gasto controlado 80000\n",
            "Gasto alto 600000\n"
          ]
        }
      ]
    },
    {
      "cell_type": "code",
      "source": [
        "calificaciones_void = [3.5,4.7, 2.9, 5.0,4.0]\n",
        "for calificacion in calificaciones_void:\n",
        "  if calificacion>=4.0:\n",
        "    print(\"Aprobado\",calificacion)\n",
        "  else:\n",
        "   print(\"Reprobado\",calificacion)"
      ],
      "metadata": {
        "colab": {
          "base_uri": "https://localhost:8080/"
        },
        "id": "2tnkEbThvwBu",
        "outputId": "37ae8d2e-a804-4738-b5c1-af672b049e29"
      },
      "execution_count": null,
      "outputs": [
        {
          "output_type": "stream",
          "name": "stdout",
          "text": [
            "Reprobado 3.5\n",
            "Aprobado 4.7\n",
            "Reprobado 2.9\n",
            "Aprobado 5.0\n",
            "Aprobado 4.0\n"
          ]
        }
      ]
    },
    {
      "cell_type": "code",
      "source": [
        "edades= [18,22,16,30,15]\n",
        "for edad in edades:\n",
        "  if edad>=18:\n",
        "    print(\"Mayor de edad\",edad)\n",
        "  else:\n",
        "    print(\"Menor de edad\",edad)"
      ],
      "metadata": {
        "colab": {
          "base_uri": "https://localhost:8080/"
        },
        "id": "N0SV5SPqwwhv",
        "outputId": "925a85a0-1043-43d0-b6f9-4100056ecfbc"
      },
      "execution_count": null,
      "outputs": [
        {
          "output_type": "stream",
          "name": "stdout",
          "text": [
            "Mayor de edad 18\n",
            "Mayor de edad 22\n",
            "Menor de edad 16\n",
            "Mayor de edad 30\n",
            "Menor de edad 15\n"
          ]
        }
      ]
    },
    {
      "cell_type": "code",
      "source": [
        "sueldos = [900000,120000,800000,1500000,950000]\n",
        "for sueldo in sueldos:\n",
        "  if sueldo>1000000:\n",
        "    print(\"Alto\",sueldo)\n",
        "  else:\n",
        "    print(\"Normal\",sueldo)\n"
      ],
      "metadata": {
        "colab": {
          "base_uri": "https://localhost:8080/"
        },
        "id": "pTGMiwj9xbPf",
        "outputId": "f167aa7b-3291-4551-ed48-54fbff435d40"
      },
      "execution_count": null,
      "outputs": [
        {
          "output_type": "stream",
          "name": "stdout",
          "text": [
            "Normal 900000\n",
            "Normal 120000\n",
            "Normal 800000\n",
            "Alto 1500000\n",
            "Normal 950000\n"
          ]
        }
      ]
    },
    {
      "cell_type": "code",
      "source": [
        "stock_void = [5,12,3,20,0]\n",
        "for stock in stock_void:\n",
        "  if stock<5:\n",
        "    print(\"Reposicion urgente\",stock)\n",
        "  else:\n",
        "    print(\"Stock suficiente\",stock)"
      ],
      "metadata": {
        "colab": {
          "base_uri": "https://localhost:8080/"
        },
        "id": "wfhux2FFx9MK",
        "outputId": "43c55c0a-d269-49d7-eae5-bf31c7941d2f"
      },
      "execution_count": null,
      "outputs": [
        {
          "output_type": "stream",
          "name": "stdout",
          "text": [
            "Stock suficiente 5\n",
            "Stock suficiente 12\n",
            "Reposicion urgente 3\n",
            "Stock suficiente 20\n",
            "Reposicion urgente 0\n"
          ]
        }
      ]
    },
    {
      "cell_type": "code",
      "source": [
        "ventas = 1250000\n",
        "print(\"Ventas del mes\", f\"{ventas:,.0f}\")"
      ],
      "metadata": {
        "colab": {
          "base_uri": "https://localhost:8080/"
        },
        "id": "wMv5Q9tV2Q5v",
        "outputId": "4342fb03-7a0d-432f-98d5-4a8135c8a3ab"
      },
      "execution_count": null,
      "outputs": [
        {
          "output_type": "stream",
          "name": "stdout",
          "text": [
            "Ventas del mes 1,250,000\n"
          ]
        }
      ]
    },
    {
      "cell_type": "code",
      "source": [
        "# Valor normal con comas\n",
        "numero_con_comas = 1250000\n",
        "print(\"Valor con comas:\", f\"{numero_con_comas:,.0f}\")\n",
        "\n",
        "# Valor con decimales\n",
        "numero_decimal = 1250000.75\n",
        "print(\"Valor con decimales:\", f\"{numero_decimal:,.2f}\")\n",
        "\n",
        "# Valor como porcentaje directo (ya viene como 85.5)\n",
        "porcentaje_directo = 85.5\n",
        "print(\"Porcentaje directo:\", f\"{porcentaje_directo}%\")\n",
        "\n",
        "# Valor decimal que queremos mostrar como porcentaje\n",
        "porcentaje_decimal = 0.875\n",
        "print(\"Porcentaje convertido:\", f\"{porcentaje_decimal*100:.1f}%\")\n",
        "\n",
        "# Valor monetario con símbolo de dólar\n",
        "ingreso_dolares = 1930000.80\n",
        "print(\"Ingreso en dólares:\", f\"${ingreso_dolares:,.2f}\")\n",
        "\n",
        "# Valor monetario con símbolo de euros\n",
        "ingreso_euros = 860000.4\n",
        "print(\"Ingreso en euros:\", f\"€{ingreso_euros:,.2f}\")\n"
      ],
      "metadata": {
        "colab": {
          "base_uri": "https://localhost:8080/"
        },
        "id": "Q6KLKVtW4uPa",
        "outputId": "6f171dac-0bd8-4331-ed44-4f8620747411"
      },
      "execution_count": null,
      "outputs": [
        {
          "output_type": "stream",
          "name": "stdout",
          "text": [
            "Valor con comas: 1,250,000\n",
            "Valor con decimales: 1,250,000.75\n",
            "Porcentaje directo: 85.5%\n",
            "Porcentaje convertido: 87.5%\n",
            "Ingreso en dólares: $1,930,000.80\n",
            "Ingreso en euros: €860,000.40\n"
          ]
        }
      ]
    },
    {
      "cell_type": "code",
      "source": [
        "valor = 43\n",
        "print(\"x:\",f\"${valor*100+50:,.2f}\")"
      ],
      "metadata": {
        "colab": {
          "base_uri": "https://localhost:8080/"
        },
        "id": "LEZbqfKG97bu",
        "outputId": "abf20775-3707-4f31-8aa3-6efafb0c6313"
      },
      "execution_count": null,
      "outputs": [
        {
          "output_type": "stream",
          "name": "stdout",
          "text": [
            "x: $4,350.00\n"
          ]
        }
      ]
    },
    {
      "cell_type": "code",
      "source": [
        "valor = 10\n",
        "print(\"Valor desconocido\", f\"${valor:,.2f}\")"
      ],
      "metadata": {
        "colab": {
          "base_uri": "https://localhost:8080/"
        },
        "id": "QL5PPP0fe_eF",
        "outputId": "e1e6824e-ce7a-4eaf-e085-4088fa9a9536"
      },
      "execution_count": null,
      "outputs": [
        {
          "output_type": "stream",
          "name": "stdout",
          "text": [
            "Valor desconocido $10.00\n"
          ]
        }
      ]
    },
    {
      "cell_type": "code",
      "source": [
        "ventas_void = [870000, 920000, 790000]\n",
        "\n",
        "for venta in ventas_void:\n",
        "    print(f\"Venta registrada: ${venta:,.0f}\")\n"
      ],
      "metadata": {
        "colab": {
          "base_uri": "https://localhost:8080/"
        },
        "id": "xF8GJns9gtIu",
        "outputId": "0a7acbfb-6d94-4160-a0e4-4ccc0cb204f6"
      },
      "execution_count": null,
      "outputs": [
        {
          "output_type": "stream",
          "name": "stdout",
          "text": [
            "Venta registrada: $870,000\n",
            "Venta registrada: $920,000\n",
            "Venta registrada: $790,000\n"
          ]
        }
      ]
    },
    {
      "cell_type": "code",
      "source": [
        "nombre_empresa = \"Void\"\n",
        "print(f\"Bienvenido al sistema de analisis de {nombre_empresa}\")"
      ],
      "metadata": {
        "colab": {
          "base_uri": "https://localhost:8080/"
        },
        "id": "EFC2_n2wg0iL",
        "outputId": "39ab493f-cc13-40db-eed8-9d8b52684a33"
      },
      "execution_count": null,
      "outputs": [
        {
          "output_type": "stream",
          "name": "stdout",
          "text": [
            "Bienvenido al sistema de analisis de Void\n"
          ]
        }
      ]
    },
    {
      "cell_type": "code",
      "source": [
        "#print(type(ventas))         # int\n",
        "#print(type(porcentaje))     # float\n",
        "#print(type(nombre_empresa)) # str\n",
        "#print(type(es_cliente))     # bool\n",
        "\n",
        "empresa = \"Void\"                # str\n",
        "ventas = 920000                 # int\n",
        "tasa_conversion = 0.87         # float\n",
        "objetivo_cumplido = True       # bool\n",
        "\n",
        "print(f\"{empresa} vendió ${ventas:,.0f}\")\n",
        "print(f\"Tasa de conversión: {tasa_conversion*100:.1f}%\")\n",
        "print(\"¿Cumplió el objetivo?\", objetivo_cumplido)\n"
      ],
      "metadata": {
        "colab": {
          "base_uri": "https://localhost:8080/"
        },
        "id": "p4gUwyNdjToB",
        "outputId": "74c633e3-a5e6-40f0-d21e-4ae3d0555129"
      },
      "execution_count": null,
      "outputs": [
        {
          "output_type": "stream",
          "name": "stdout",
          "text": [
            "Void vendió $920,000\n",
            "Tasa de conversión: 87.0%\n",
            "¿Cumplió el objetivo? True\n"
          ]
        }
      ]
    },
    {
      "cell_type": "code",
      "source": [
        "nombre_marca = \"H'echbone Paris\" #str\n",
        "ventas = 1540000 #int\n",
        "margen = 0.31 #floar\n",
        "licencia_activa = True #bool"
      ],
      "metadata": {
        "id": "5gLe47-RjeKP"
      },
      "execution_count": null,
      "outputs": []
    },
    {
      "cell_type": "code",
      "source": [
        "#EJEMPLO\n",
        "ventas = 920000\n",
        "\n",
        "if ventas > 1500000:\n",
        "    print(\"Void está rompiéndola\")\n",
        "elif ventas > 1000000:\n",
        "    print(\"Void va muy bien\")\n",
        "elif ventas > 800000:\n",
        "    print(\"Void va bien\")\n",
        "else:\n",
        "    print(\"Hay que revisar la estrategia\")\n"
      ],
      "metadata": {
        "colab": {
          "base_uri": "https://localhost:8080/"
        },
        "id": "-ACGvPKvk2FH",
        "outputId": "e8fd72b1-b22f-4c1f-c334-d7a022e11a85"
      },
      "execution_count": null,
      "outputs": [
        {
          "output_type": "stream",
          "name": "stdout",
          "text": [
            "Void va bien\n"
          ]
        }
      ]
    },
    {
      "cell_type": "code",
      "source": [
        "#EJERCICIO\n",
        "ventas = 780000\n",
        "if ventas < 800000:\n",
        "  print(f\"Void necesita revisar su estrategia. Ventas muy bajas ${ventas:,.0f}\")\n",
        "elif 8000 >= ventas >= 1000000:\n",
        "  print(f\"Void mantiene el minimo. Ventas aceptables ${ventas:,.0f}\")\n",
        "elif 1000000 >= ventas <= 1300000:\n",
        "  print(f\"Void esta cumpliendo. Ventas buenas ${ventas:,.0f}\")\n",
        "elif ventas > 1300000:\n",
        "  print(f\"Void la esta rompiendo. Ventas excelentes ${ventas:,.0f}\")\n"
      ],
      "metadata": {
        "colab": {
          "base_uri": "https://localhost:8080/"
        },
        "id": "uwEfkM6jvMeD",
        "outputId": "384c55c3-6515-4d4b-9e67-10eb4897631a"
      },
      "execution_count": null,
      "outputs": [
        {
          "output_type": "stream",
          "name": "stdout",
          "text": [
            "Void necesita revisar su estrategia. Ventas muy bajas $780,000\n"
          ]
        }
      ]
    },
    {
      "cell_type": "markdown",
      "source": [
        "Si las ventas son mayores a $1.000.000 y el margen es mayor al 30%,\n",
        "→ “Void está en su mejor momento.”\n",
        "\n",
        "Si las ventas son mayores a $1.000.000 pero el margen es menor o igual a 30%,\n",
        "→ “Ventas buenas, pero margen bajo. A revisar costos.”\n",
        "\n",
        "Si las ventas son menores a $1.000.000 pero el margen es mayor al 30%,\n",
        "→ “Ventas bajas, pero con buen margen. Hay potencial.”\n",
        "\n",
        "En cualquier otro caso:\n",
        "→ “Void necesita trabajar tanto ventas como margen.”"
      ],
      "metadata": {
        "id": "PRGbrkNlAbAP"
      }
    },
    {
      "cell_type": "code",
      "source": [
        "#EJERCICIO\n",
        "\n",
        "\n",
        "ventas_totales = 1120000\n",
        "margen = 0.27\n",
        "\n",
        "if ventas_totales < 1000000 and margen > 0.30:\n",
        "  print(f\"Void esta en su mejor momento. Ventas: ${ventas_totales:,.0f}, Margen:{margen:.0%}\")\n",
        "elif ventas_totales > 1000000 and margen <= 0.30:\n",
        "  print(f\"Ventas buneas, pero el margen bajo. A revisar costos. Ventas: ${ventas_totales:,.0f} margen:{margen:.0%}\")\n",
        "elif ventas_totales < 10000000 and margen > 30:\n",
        "  print(f\"Ventas bajas, pero con buen margen. Hay potencial. Ventas: ${ventas_totales:,.0f}, Margen: {margen:.0%}\")\n",
        "else:\n",
        "  print(\"Void necesita trabajar tanto ventas como margen\")\n"
      ],
      "metadata": {
        "colab": {
          "base_uri": "https://localhost:8080/"
        },
        "id": "ypwjykAFxoP5",
        "outputId": "7b6480f4-cd78-4be7-f82b-34572c6500ea"
      },
      "execution_count": null,
      "outputs": [
        {
          "output_type": "stream",
          "name": "stdout",
          "text": [
            "Ventas buneas, pero el margen bajo. A revisar costos. Ventas: $1,120,000 margen:27%\n"
          ]
        }
      ]
    },
    {
      "cell_type": "code",
      "source": [],
      "metadata": {
        "id": "XsJEwC14_MN3"
      },
      "execution_count": null,
      "outputs": []
    },
    {
      "cell_type": "markdown",
      "source": [],
      "metadata": {
        "id": "5c26PCmVNbP5"
      }
    },
    {
      "cell_type": "code",
      "source": [
        "marca = \"Hummel Active\"    #str\n",
        "ventas = 970000            #int\n",
        "margen = 0.33              #float\n",
        "licencia_activa = True     #bool\n",
        "\n",
        "if licencia_activa:\n",
        "  if ventas < 1000000:\n",
        "    print(f\"Reporte de marca: {marca}\\nVentas: ${ventas:,.0f}\\nMargen {margen:.0%}\\nResultado: Buen margen, pero hay oportunidad de crecer en ventas.\")\n",
        "  else:\n",
        "    print(f\"Reporte de marca: {marca}\\nVentas: ${ventas:,.0f}\\nMargen {margen:.0%}\\nResultado: Rendimiento optimo de la marca.\")\n",
        "else:\n",
        "  print(\"La marca no esta autorizada par operar actualmente\")"
      ],
      "metadata": {
        "colab": {
          "base_uri": "https://localhost:8080/"
        },
        "id": "cdoVRxOnNkCJ",
        "outputId": "cda961b8-367c-4b30-ae94-d2f7547a2ba5"
      },
      "execution_count": null,
      "outputs": [
        {
          "output_type": "stream",
          "name": "stdout",
          "text": [
            "Reporte de marca: Hummel Active\n",
            "Ventas: $970,000\n",
            "Margen 33%\n",
            "Resultado: Buen margen, pero hay oportunidad de crecer en ventas.\n"
          ]
        }
      ]
    },
    {
      "cell_type": "code",
      "source": [
        "ventas = 1800000            #int\n",
        "margen = 0.28               #float\n",
        "utilidad = ventas * margen  #str\n",
        "\n",
        "print(f\"Utilidad generada por Higgins: ${utilidad:,.0f}\")"
      ],
      "metadata": {
        "colab": {
          "base_uri": "https://localhost:8080/"
        },
        "id": "uivrwsSBOXvK",
        "outputId": "c5d21d28-94f1-4c13-e1f6-63d5874deab1"
      },
      "execution_count": null,
      "outputs": [
        {
          "output_type": "stream",
          "name": "stdout",
          "text": [
            "Utilidad generada por Higgins: $504,000\n"
          ]
        }
      ]
    },
    {
      "cell_type": "code",
      "source": [
        "marca = \"Noctane Pro\"\n",
        "ventas = 1320000\n",
        "costo_total = 940000\n",
        "\n",
        "#Calcula\n",
        "\n",
        "utilidad = ventas - costo_total\n",
        "margen = utilidad / ventas\n",
        "\n",
        "print(f\"Reporte de marca: {marca} \\nventas: ${ventas:,.0f} \\ncostos ${costo_total:,.0f} \\nUtilidad: ${utilidad:,.0f} \\nMargen: {margen:.1%} \")\n",
        "if margen>30:\n",
        "  print(\"Margen Optimo\")\n",
        "elif 25 <= margen <=30:\n",
        "  print(\"Aceptable, pero puede mejorar\")\n",
        "elif margen>= 25:\n",
        "  print(\"Margen muy bajo\")\n",
        "\n",
        "margen_ideal = 0.33\n",
        "\n",
        "if margen_ideal:\n",
        "  print(f\"Si el margen fuera del {margen_ideal:.0%}, la utilidad proyectada sería ${(ventas*margen_ideal):,.0f}\")\n",
        "\n"
      ],
      "metadata": {
        "colab": {
          "base_uri": "https://localhost:8080/"
        },
        "id": "wVwj8aANJoXI",
        "outputId": "110e7693-cf38-4ce0-a496-6f1ff6fcaf49"
      },
      "execution_count": null,
      "outputs": [
        {
          "output_type": "stream",
          "name": "stdout",
          "text": [
            "Reporte de marca: Noctane Pro \n",
            "ventas: $1,320,000 \n",
            "costos $940,000 \n",
            "Utilidad: $380,000 \n",
            "Margen: 28.8% \n",
            "Si el margen fuera del 33%, la utilidad proyectada sería $435,600\n"
          ]
        }
      ]
    },
    {
      "cell_type": "code",
      "source": [],
      "metadata": {
        "id": "Pwhh7mpe5YHr"
      },
      "execution_count": null,
      "outputs": []
    },
    {
      "cell_type": "code",
      "source": [
        "margenes = [0.275, 0.3, 0.33333, 0.08, 0.12345]\n",
        "\n",
        "for numero in margenes:\n",
        "  print(f\"Numero con 2 decimales: {numero:,.2f}\")\n",
        "  print(f\"Numero con 5 decimales: {numero:,.5f}\")\n",
        "  print(f\"Porcentaje sin decimales: {numero:.0%}\")\n",
        "  print(f\"Porcentaje con 2 decimales: {numero:.2%}\")\n"
      ],
      "metadata": {
        "colab": {
          "base_uri": "https://localhost:8080/"
        },
        "id": "wpMFytQJSab4",
        "outputId": "a67c28bd-a484-4af8-f593-aff17d9fc2b2"
      },
      "execution_count": null,
      "outputs": [
        {
          "output_type": "stream",
          "name": "stdout",
          "text": [
            "Numero con 2 decimales: 0.28\n",
            "Numero con 5 decimales: 0.27500\n",
            "Porcentaje sin decimales: 28%\n",
            "Porcentaje con 2 decimales: 27.50%\n",
            "Numero con 2 decimales: 0.30\n",
            "Numero con 5 decimales: 0.30000\n",
            "Porcentaje sin decimales: 30%\n",
            "Porcentaje con 2 decimales: 30.00%\n",
            "Numero con 2 decimales: 0.33\n",
            "Numero con 5 decimales: 0.33333\n",
            "Porcentaje sin decimales: 33%\n",
            "Porcentaje con 2 decimales: 33.33%\n",
            "Numero con 2 decimales: 0.08\n",
            "Numero con 5 decimales: 0.08000\n",
            "Porcentaje sin decimales: 8%\n",
            "Porcentaje con 2 decimales: 8.00%\n",
            "Numero con 2 decimales: 0.12\n",
            "Numero con 5 decimales: 0.12345\n",
            "Porcentaje sin decimales: 12%\n",
            "Porcentaje con 2 decimales: 12.35%\n"
          ]
        }
      ]
    },
    {
      "cell_type": "code",
      "source": [
        "#IDEAL IA\n",
        "\n",
        "margenes = [0.275, 0.3, 0.33333, 0.08, 0.12345]\n",
        "\n",
        "for numero in margenes:\n",
        "    print(f\"--- Analizando número: {numero} ---\")\n",
        "    print(f\"Número con 2 decimales: {numero:.2f}\")\n",
        "    print(f\"Número con 5 decimales: {numero:.5f}\")\n",
        "    print(f\"Porcentaje sin decimales: {numero:.0%}\")\n",
        "    print(f\"Porcentaje con 2 decimales: {numero:.2%}\")\n",
        "    print()  # Línea en blanco para separar\n",
        "\n"
      ],
      "metadata": {
        "colab": {
          "base_uri": "https://localhost:8080/"
        },
        "id": "ZJ5o3bKeZab4",
        "outputId": "f5e275cf-0ae2-423b-e6fd-a984c15d9018"
      },
      "execution_count": null,
      "outputs": [
        {
          "output_type": "stream",
          "name": "stdout",
          "text": [
            "--- Analizando número: 0.275 ---\n",
            "Número con 2 decimales: 0.28\n",
            "Número con 5 decimales: 0.27500\n",
            "Porcentaje sin decimales: 28%\n",
            "Porcentaje con 2 decimales: 27.50%\n",
            "\n",
            "--- Analizando número: 0.3 ---\n",
            "Número con 2 decimales: 0.30\n",
            "Número con 5 decimales: 0.30000\n",
            "Porcentaje sin decimales: 30%\n",
            "Porcentaje con 2 decimales: 30.00%\n",
            "\n",
            "--- Analizando número: 0.33333 ---\n",
            "Número con 2 decimales: 0.33\n",
            "Número con 5 decimales: 0.33333\n",
            "Porcentaje sin decimales: 33%\n",
            "Porcentaje con 2 decimales: 33.33%\n",
            "\n",
            "--- Analizando número: 0.08 ---\n",
            "Número con 2 decimales: 0.08\n",
            "Número con 5 decimales: 0.08000\n",
            "Porcentaje sin decimales: 8%\n",
            "Porcentaje con 2 decimales: 8.00%\n",
            "\n",
            "--- Analizando número: 0.12345 ---\n",
            "Número con 2 decimales: 0.12\n",
            "Número con 5 decimales: 0.12345\n",
            "Porcentaje sin decimales: 12%\n",
            "Porcentaje con 2 decimales: 12.35%\n",
            "\n"
          ]
        }
      ]
    },
    {
      "cell_type": "code",
      "source": [
        "#REFERENCIA\n",
        "\n",
        "# Lista de margenes a evaluar\n",
        "\n",
        "margenes = [0.275, 0.3, 0.33333, 0.08, 0.12345]\n",
        "\n",
        "# Recorremos cada margen y mostramos diferentes formatos\n",
        "for margen in margenes:\n",
        "  print(f\"Numero con 2 decimales: {margen:,.2f}\")\n",
        "  print(f\"Numero con 5 decimales: {margen:,.5f}\")\n",
        "  print(f\"Porcentaje sin decimales: {margen:.0%}\")\n",
        "  print(f\"Porcentaje con 2 decimales: {margen:.2%}\")\n",
        "  print(\"-\"*40)"
      ],
      "metadata": {
        "colab": {
          "base_uri": "https://localhost:8080/"
        },
        "id": "l9F8-DgVVtOE",
        "outputId": "c5599cf1-612d-49b9-b32a-f4417122a7c3"
      },
      "execution_count": null,
      "outputs": [
        {
          "output_type": "stream",
          "name": "stdout",
          "text": [
            "Numero con 2 decimales: 0.28\n",
            "Numero con 5 decimales: 0.27500\n",
            "Porcentaje sin decimales: 28%\n",
            "Porcentaje con 2 decimales: 27.50%\n",
            "----------------------------------------\n",
            "Numero con 2 decimales: 0.30\n",
            "Numero con 5 decimales: 0.30000\n",
            "Porcentaje sin decimales: 30%\n",
            "Porcentaje con 2 decimales: 30.00%\n",
            "----------------------------------------\n",
            "Numero con 2 decimales: 0.33\n",
            "Numero con 5 decimales: 0.33333\n",
            "Porcentaje sin decimales: 33%\n",
            "Porcentaje con 2 decimales: 33.33%\n",
            "----------------------------------------\n",
            "Numero con 2 decimales: 0.08\n",
            "Numero con 5 decimales: 0.08000\n",
            "Porcentaje sin decimales: 8%\n",
            "Porcentaje con 2 decimales: 8.00%\n",
            "----------------------------------------\n",
            "Numero con 2 decimales: 0.12\n",
            "Numero con 5 decimales: 0.12345\n",
            "Porcentaje sin decimales: 12%\n",
            "Porcentaje con 2 decimales: 12.35%\n",
            "----------------------------------------\n"
          ]
        }
      ]
    },
    {
      "cell_type": "code",
      "source": [
        "margenes = [0.27, 0.33, 0.28, 0.4]\n",
        "\n",
        "for margen in margenes:\n",
        "  if 0.30 >= margen >= 0.30:\n",
        "    print(f\"Margen del {margen:.0%} - Alto\")\n",
        "  else:\n",
        "    print(f\"Margen del {margen:.0%} - Bajo\")\n"
      ],
      "metadata": {
        "colab": {
          "base_uri": "https://localhost:8080/"
        },
        "id": "REWDOQe0cY7b",
        "outputId": "326a4f2d-8dc2-45f1-a831-0c2f79ad9901"
      },
      "execution_count": null,
      "outputs": [
        {
          "output_type": "stream",
          "name": "stdout",
          "text": [
            "Margen del 27% - Bajo\n",
            "Margen del 33% - Bajo\n",
            "Margen del 28% - Bajo\n",
            "Margen del 40% - Bajo\n"
          ]
        }
      ]
    },
    {
      "cell_type": "code",
      "source": [
        "marca = \"Bruno Banani\"\n",
        "ventas_en_el_ultimo_trimestre = 1560000\n",
        "costos_totales_del_trimestre = 960000\n",
        "margen_objetivo = 0.30\n",
        "licencia_activa = True\n",
        "\n",
        "if licencia_activa:\n",
        "  print(f\"Marca: {marca} \\nUtilidad: ${ventas_en_el_ultimo_trimestre-costos_totales_del_trimestre:,.2f} \\nMargen ${utilidad/ventas:,.2f} \\nDiferencia: {margen_objetivo-margen:.2%}\")\n",
        "else:\n",
        "  print(f\"Marca: {marca} - Licencia no activa. Sin analisis.\")\n"
      ],
      "metadata": {
        "colab": {
          "base_uri": "https://localhost:8080/"
        },
        "id": "zWDhwioLk1bk",
        "outputId": "90837379-e7db-4066-bd0b-14a5fd500612"
      },
      "execution_count": null,
      "outputs": [
        {
          "output_type": "stream",
          "name": "stdout",
          "text": [
            "Marca: Bruno Banani \n",
            "Utilidad: $600,000.00 \n",
            "Margen $0.29 \n",
            "Diferencia: -10.00%\n"
          ]
        }
      ]
    },
    {
      "cell_type": "code",
      "source": [
        "marcas = [\"Bruno Banani\", \"Hummel Active\", \"Noctane Pro\"]\n",
        "ventas_en_el_ultimo_trimestre = [1545000, 980000, 1200000]\n",
        "costos_totales_del_trimestre = [960000, 600000, 750000]\n",
        "licencia_activa = [True, False, True]\n",
        "margen_objetivo = [0.30, 0.30, 0.30]\n",
        "\n",
        "\n",
        "print(\"___Reporte de ventas___\")\n",
        "print()\n",
        "for marca, ventas, costos, licencia, margen in zip(marcas, ventas_en_el_ultimo_trimestre, costos_totales_del_trimestre, licencia_activa, margen_objetivo):\n",
        "  if licencia_activa:\n",
        "\n",
        "    print(f\"Marca: {marca} \\nUtilidad: ${ventas-costos:,.2f} \\nMargen: ${utilidad/ventas:,.2f} \\nDiferencia: {margen-margen:.0%}\")\n",
        "    print()\n",
        "  else:\n",
        "    print(f\"Marca: {marca} - Licencia no activa. Sin analisis\")\n",
        "\n",
        "\n"
      ],
      "metadata": {
        "colab": {
          "base_uri": "https://localhost:8080/"
        },
        "id": "8eGNF2FxnWmY",
        "outputId": "91505e9a-d9ed-4bb0-ebfc-abab36ca6710"
      },
      "execution_count": null,
      "outputs": [
        {
          "output_type": "stream",
          "name": "stdout",
          "text": [
            "___Reporte de ventas___\n",
            "\n",
            "Marca: Bruno Banani \n",
            "Utilidad: $585,000.00 \n",
            "Margen: $0.25 \n",
            "Diferencia: 0%\n",
            "\n",
            "Marca: Hummel Active \n",
            "Utilidad: $380,000.00 \n",
            "Margen: $0.39 \n",
            "Diferencia: 0%\n",
            "\n",
            "Marca: Noctane Pro \n",
            "Utilidad: $450,000.00 \n",
            "Margen: $0.32 \n",
            "Diferencia: 0%\n",
            "\n"
          ]
        }
      ]
    },
    {
      "cell_type": "code",
      "source": [
        "ventas = 1320000\n",
        "margen = 0.27\n",
        "\n",
        "if margen > 0.30:\n",
        "  print(\"Margen optimo\")\n",
        "elif 0.25 <= margen <= 0.30:\n",
        "  print(\"Aceptable\")\n",
        "else:\n",
        "  print(\"Bajo margen. Revisar estrategia\")\n",
        "\n",
        "\n"
      ],
      "metadata": {
        "id": "afLd29Y2vw9P",
        "colab": {
          "base_uri": "https://localhost:8080/"
        },
        "outputId": "89ff8791-85ba-42b6-8899-bce658e2448d"
      },
      "execution_count": null,
      "outputs": [
        {
          "output_type": "stream",
          "name": "stdout",
          "text": [
            "Aceptable\n"
          ]
        }
      ]
    },
    {
      "cell_type": "code",
      "source": [
        "#UTILIDAD=Ventas-Costos\n",
        "#MARGEN=Utilidad/Ventas\n",
        "\n",
        "marca = \"Void Kids\"\n",
        "ventas = 880000\n",
        "costo_total = 660000\n",
        "margen_objetivo = 0.30\n",
        "\n",
        "utilidad = (ventas-costo_total)\n",
        "margen = (utilidad/ventas)\n",
        "print(f\"Utilidad: ${utilidad:,.2f} \\nMargen: {margen:.0%}\" )\n",
        "\n",
        "if margen>0.30:\n",
        "  Print(\"Margen sobresaliente\")\n",
        "elif 0.25 <= margen <= 0.30:\n",
        "  print(\"Imrprimir: Margen aceptable\")\n",
        "else:\n",
        "  print(\"Margen Bajo. Revisar costos\")\n"
      ],
      "metadata": {
        "colab": {
          "base_uri": "https://localhost:8080/"
        },
        "id": "iWA3sxCd9PQi",
        "outputId": "1b3e34a7-8811-450b-ec80-5e2f48f896b2"
      },
      "execution_count": null,
      "outputs": [
        {
          "output_type": "stream",
          "name": "stdout",
          "text": [
            "Utilidad: $220,000.00 \n",
            "Margen: 25%\n",
            "Imrprimir: Margen aceptable\n"
          ]
        }
      ]
    },
    {
      "cell_type": "code",
      "source": [
        "marcas = [\"Void\", \"Higgins\", \"Noctane\", \"Bruno Banani\"]\n",
        "ventas_trimestre = [880000, 1320000, 1200000, 1545000]\n",
        "costos_trimestre = [660000, 960000, 750000, 980000]\n",
        "licencia_activa = [True, True, False, True]\n",
        "margen_objetivo = [0.30, 0.30, 0.30, 0.30]\n",
        "\n",
        "for marca, ventas, costos, licencia, margen_ideal, in zip(marcas, ventas_trimestre, costos_trimestre, licencia_activa, margen_objetivo):\n",
        "  if licencia:\n",
        "    utilidad = ventas - costos\n",
        "    margen = utilidad / ventas\n",
        "    diferencia = margen - margen_ideal\n",
        "\n",
        "    print(f\"\\nMarca: {marca}\")\n",
        "    print(f\"\\nUtilidad: ${utilidad:,.2f}\")\n",
        "    print(f\"\\nMargen: {margen:.0%}\")\n",
        "    print(f\"\\nDiferencia: {diferencia:.0%}\")\n",
        "\n",
        "    if margen > 0.30:\n",
        "      print(\"→Margen sobresaliente\")\n",
        "    elif 0.25 <= margen <= 0.30:\n",
        "        print(\"→Margen aceptable\")\n",
        "    else:\n",
        "        print(\"→Margen Bajo. Revisar estrategia.\")\n",
        "  else:\n",
        "    print(f\"\\nMarca: {marca}\")\n",
        "    print(\"→Licencia no activa. Sin analisis.\")\n",
        "\n",
        "\n",
        "\n"
      ],
      "metadata": {
        "colab": {
          "base_uri": "https://localhost:8080/"
        },
        "id": "6hLuimLk9qnM",
        "outputId": "20f46acc-8a2c-4dd2-8d70-fa5efc228e8d"
      },
      "execution_count": null,
      "outputs": [
        {
          "output_type": "stream",
          "name": "stdout",
          "text": [
            "\n",
            "Marca: Void\n",
            "\n",
            "Utilidad: $220,000.00\n",
            "\n",
            "Margen: 25%\n",
            "\n",
            "Diferencia: -5%\n",
            "→Margen aceptable\n",
            "\n",
            "Marca: Higgins\n",
            "\n",
            "Utilidad: $360,000.00\n",
            "\n",
            "Margen: 27%\n",
            "\n",
            "Diferencia: -3%\n",
            "→Margen aceptable\n",
            "\n",
            "Marca: Noctane\n",
            "→Licencia no activa. Sin analisis.\n",
            "\n",
            "Marca: Bruno Banani\n",
            "\n",
            "Utilidad: $565,000.00\n",
            "\n",
            "Margen: 37%\n",
            "\n",
            "Diferencia: 7%\n",
            "→Margen sobresaliente\n"
          ]
        }
      ]
    },
    {
      "cell_type": "code",
      "source": [
        "#UTILIDAD=Ventas-Costos\n",
        "#MARGEN=Utilidad/Ventas\n",
        "\n",
        "marcas = [\"Void\", \"Higgins\", \"Noctane\", \"Bruno Banani\"]\n",
        "ventas_trimestre = [920000, 1380000, 1260000, 1545000]\n",
        "costos_trimestre = [690000, 970000, 810000, 980000]\n",
        "licencia_activa = [True, False, True, True]\n",
        "margen_objetivo = [0.30, 0.30, 0.30, 0.30]\n",
        "\n",
        "print(\"REPORTE DE MARCAS\")\n",
        "for marca, ventas, costos, licencia, margen in zip(marcas, ventas_trimestre, costos_trimestre, licencia_activa, margen_objetivo):\n",
        "\n",
        "  if licencia:\n",
        "    utilidad = ventas - costos\n",
        "    margen = utilidad / ventas\n",
        "\n",
        "\n",
        "    print()\n",
        "    print(f\"Marca: {marca} \\nUtilidad ${utilidad:,.2f} \\nMargen {margen:,.0%}\")\n",
        "\n",
        "    if margen > 0.30:\n",
        "      print(\"Margen sobresaliente\")\n",
        "    elif 0.25 < margen < 0.30:\n",
        "      print(\"Margen aceptable\")\n",
        "    else:\n",
        "      print(\"Revisar estrategia\")\n",
        "\n",
        "  else:\n",
        "    print()\n",
        "    print(f\"Marca: {marca} \\nNo tiene Licencia Activa, no se ahce analisis.\")\n",
        "\n",
        "\n"
      ],
      "metadata": {
        "colab": {
          "base_uri": "https://localhost:8080/"
        },
        "id": "rsB6t3CXeXJe",
        "outputId": "90ebcdde-2f4e-474c-a4ec-e57a855dfc87"
      },
      "execution_count": null,
      "outputs": [
        {
          "output_type": "stream",
          "name": "stdout",
          "text": [
            "REPORTE DE MARCAS\n",
            "\n",
            "Marca: Void \n",
            "Utilidad $230,000.00 \n",
            "Margen 25%\n",
            "Revisar estrategia\n",
            "\n",
            "Marca: Higgins \n",
            "No tiene Licencia Activa, no se ahce analisis.\n",
            "\n",
            "Marca: Noctane \n",
            "Utilidad $450,000.00 \n",
            "Margen 36%\n",
            "Margen sobresaliente\n",
            "\n",
            "Marca: Bruno Banani \n",
            "Utilidad $565,000.00 \n",
            "Margen 37%\n",
            "Margen sobresaliente\n"
          ]
        }
      ]
    },
    {
      "cell_type": "code",
      "source": [
        "#UTILIDAD=Ventas-Costos\n",
        "#MARGEN=Utilidad/Ventas\n",
        "\n",
        "tiendas = [\"Bogotá\", \"Medellín\", \"Cali\", \"Barranquilla\"]\n",
        "ventas = [1380000, 1220000, 960000, 890000]\n",
        "costos = [880000, 740000, 690000, 640000]\n",
        "licencia_activa = [True, True, False, True]\n",
        "margen_objetivo = [0.30, 0.30, 0.30, 0.35]\n",
        "\n",
        "print(\"Analisis de tiendas Higgins\")\n",
        "print()\n",
        "\n",
        "for tienda, venta, costo, licencia, objetivo in zip(tiendas, ventas, costos, licencia_activa, margen_objetivo):\n",
        "\n",
        "  if licencia:\n",
        "    utilidad = venta - costo\n",
        "    margen = utilidad / venta\n",
        "    margen_diferencial = margen - objetivo\n",
        "\n",
        "    print(f\"Tienda de: {tienda} \\nUtilidad ${utilidad:,.2f} \\nMargen {margen:.0%} \\nDiferencia de Margen: {margen_diferencial:.0%}\")\n",
        "    if margen > 0.35:\n",
        "      print(\"Excelente operacion!\")\n",
        "    elif 0.28 < margen < 0.35:\n",
        "      print(\"Buen rendimiento\")\n",
        "    else:\n",
        "      print(\"Atencion: Revisar estrategia\")\n",
        "    print()\n",
        "  else:\n",
        "    print()\n",
        "    print(f\"Tienda de {tienda} \\nSin licencia operativa. No se analiza\")\n",
        "    print()\n"
      ],
      "metadata": {
        "colab": {
          "base_uri": "https://localhost:8080/"
        },
        "id": "VW6kO_cfndzA",
        "outputId": "8e4fc738-4d73-4a30-e27c-27feac179295"
      },
      "execution_count": null,
      "outputs": [
        {
          "output_type": "stream",
          "name": "stdout",
          "text": [
            "Analisis de tiendas Higgins\n",
            "\n",
            "Tienda de: Bogotá \n",
            "Utilidad $500,000.00 \n",
            "Margen 36% \n",
            "Diferencia de Margen: 6%\n",
            "Excelente operacion!\n",
            "\n",
            "Tienda de: Medellín \n",
            "Utilidad $480,000.00 \n",
            "Margen 39% \n",
            "Diferencia de Margen: 9%\n",
            "Excelente operacion!\n",
            "\n",
            "\n",
            "Tienda de Cali \n",
            "Sin licencia operativa. No se analiza\n",
            "\n",
            "Tienda de: Barranquilla \n",
            "Utilidad $250,000.00 \n",
            "Margen 28% \n",
            "Diferencia de Margen: -7%\n",
            "Buen rendimiento\n",
            "\n"
          ]
        }
      ]
    },
    {
      "cell_type": "code",
      "source": [
        "# UTILIDAD = Ventas - Costos\n",
        "# MARGEN = Utilidad / Ventas\n",
        "\n",
        "tiendas = [\"Bogotá\", \"Medellín\", \"Cali\", \"Barranquilla\"]\n",
        "ventas = [1380000, 1220000, 960000, 890000]\n",
        "costos = [880000, 740000, 690000, 640000]\n",
        "licencia_activa = [True, True, False, True]\n",
        "margen_objetivo = [0.30, 0.30, 0.30, 0.35]\n",
        "\n",
        "print(\"🔍 Análisis de tiendas Higgins\\n\")\n",
        "\n",
        "for tienda, venta, costo, licencia, objetivo in zip(tiendas, ventas, costos, licencia_activa, margen_objetivo):\n",
        "\n",
        "  if licencia:\n",
        "    utilidad = venta - costo\n",
        "    margen = utilidad / venta\n",
        "    diferencia = margen - objetivo\n",
        "\n",
        "    print(f\"🏬 Tienda: {tienda}\")\n",
        "    print(f\"   ✅ Utilidad: ${utilidad:,.2f}\")\n",
        "    print(f\"   📊 Margen real: {margen:.0%}\")\n",
        "    print(f\"   🎯 Objetivo: {objetivo:.0%}\")\n",
        "    print(f\"   🔁 Diferencia: {diferencia:.0%}\")\n",
        "\n",
        "    # Evaluación del margen real\n",
        "    if margen > 0.35:\n",
        "      print(\"   ✅ Excelente operación\")\n",
        "    elif 0.28 < margen <= 0.35:\n",
        "      print(\"   🟡 Buen rendimiento\")\n",
        "    else:\n",
        "      print(\"   ⚠️ Atención: Revisar estrategia\")\n",
        "\n",
        "    # Evaluación contra objetivo\n",
        "    if diferencia > 0:\n",
        "      print(f\"   ✔️ Superó el objetivo por {diferencia:.0%}\")\n",
        "    elif diferencia < 0:\n",
        "      print(f\"   ❌ Faltó {abs(diferencia):.0%} para alcanzar el objetivo\")\n",
        "\n",
        "    print()\n",
        "\n",
        "  else:\n",
        "    print(f\"🏬 Tienda: {tienda}\")\n",
        "    print(\"   ❌ Sin licencia operativa. No se analiza.\\n\")\n"
      ],
      "metadata": {
        "colab": {
          "base_uri": "https://localhost:8080/"
        },
        "id": "E3kTSssv---g",
        "outputId": "39f33af4-0a0e-4ef8-ebe8-013696d02c50"
      },
      "execution_count": null,
      "outputs": [
        {
          "output_type": "stream",
          "name": "stdout",
          "text": [
            "🔍 Análisis de tiendas Higgins\n",
            "\n",
            "🏬 Tienda: Bogotá\n",
            "   ✅ Utilidad: $500,000.00\n",
            "   📊 Margen real: 36%\n",
            "   🎯 Objetivo: 30%\n",
            "   🔁 Diferencia: 6%\n",
            "   ✅ Excelente operación\n",
            "   ✔️ Superó el objetivo por 6%\n",
            "\n",
            "🏬 Tienda: Medellín\n",
            "   ✅ Utilidad: $480,000.00\n",
            "   📊 Margen real: 39%\n",
            "   🎯 Objetivo: 30%\n",
            "   🔁 Diferencia: 9%\n",
            "   ✅ Excelente operación\n",
            "   ✔️ Superó el objetivo por 9%\n",
            "\n",
            "🏬 Tienda: Cali\n",
            "   ❌ Sin licencia operativa. No se analiza.\n",
            "\n",
            "🏬 Tienda: Barranquilla\n",
            "   ✅ Utilidad: $250,000.00\n",
            "   📊 Margen real: 28%\n",
            "   🎯 Objetivo: 35%\n",
            "   🔁 Diferencia: -7%\n",
            "   🟡 Buen rendimiento\n",
            "   ❌ Faltó 7% para alcanzar el objetivo\n",
            "\n"
          ]
        }
      ]
    },
    {
      "cell_type": "code",
      "source": [
        "# UTILIDAD = Ventas - Costos\n",
        "# MARGEN = Utilidad / Ventas\n",
        "\n",
        "tiendas = [\"Bogotá\", \"Medellín\", \"Cali\", \"Barranquilla\", \"Bucaramanga\"]\n",
        "ventas = [1500000, 1350000, 950000, 1120000, 880000]\n",
        "costos = [990000, 890000, 690000, 730000, 630000]\n",
        "margen_objetivo = [0.30, 0.32, 0.28, 0.30, 0.25]\n",
        "licencia_activa = [True, True, False, True, True]\n",
        "\n",
        "print(\"REPORTE POR TIENDA Y RECOMENDACIONES\")\n",
        "print()\n",
        "for tienda, venta, costo, objetivo, licencia in zip(tiendas, ventas, costos, margen_objetivo, licencia_activa):\n",
        "  if licencia:\n",
        "    utilidad = venta - costo\n",
        "    margen = utilidad / venta\n",
        "    diferencia = abs(margen - objetivo)\n",
        "\n",
        "    print(f\" Tienda: {tienda} \\nUtilidad: ${utilidad:,.2f} \\nMargen Real: {margen:.0%} \\nDiferencia con el margen objetivo: {diferencia:.0%} \")\n",
        "    if margen >= objetivo+0.05:\n",
        "      print(\"Excelente operacion\")\n",
        "    elif margen >= objetivo:\n",
        "      print(\"Margen cerca del objetivo\")\n",
        "    else:\n",
        "      print(\"Margen bajo: Revisar estrategia\")\n",
        "    print()\n",
        "\n",
        "  else:\n",
        "    print(f\"Tienda: {tienda} \\nNo tiene licencia operativa. No hay analisis\")\n",
        "    print()\n"
      ],
      "metadata": {
        "colab": {
          "base_uri": "https://localhost:8080/"
        },
        "id": "Ui3X1ARSAf1z",
        "outputId": "c895c3b1-83ba-4d76-d388-c464d828d75f"
      },
      "execution_count": null,
      "outputs": [
        {
          "output_type": "stream",
          "name": "stdout",
          "text": [
            "REPORTE POR TIENDA Y RECOMENDACIONES\n",
            "\n",
            " Tienda: Bogotá \n",
            "Utilidad: $510,000.00 \n",
            "Margen Real: 34% \n",
            "Diferencia con el margen objetivo: 4% \n",
            "Margen cerca del objetivo\n",
            "\n",
            " Tienda: Medellín \n",
            "Utilidad: $460,000.00 \n",
            "Margen Real: 34% \n",
            "Diferencia con el margen objetivo: 2% \n",
            "Margen cerca del objetivo\n",
            "\n",
            "Tienda: Cali \n",
            "No tiene licencia operativa. No hay analisis\n",
            "\n",
            " Tienda: Barranquilla \n",
            "Utilidad: $390,000.00 \n",
            "Margen Real: 35% \n",
            "Diferencia con el margen objetivo: 5% \n",
            "Margen cerca del objetivo\n",
            "\n",
            " Tienda: Bucaramanga \n",
            "Utilidad: $250,000.00 \n",
            "Margen Real: 28% \n",
            "Diferencia con el margen objetivo: 3% \n",
            "Margen cerca del objetivo\n",
            "\n"
          ]
        }
      ]
    },
    {
      "cell_type": "code",
      "source": [
        "campanas = [\"Back to School\", \"Halloween Drop\", \"Black Friday\"]\n",
        "for campana in campanas:\n",
        "  print(f\"Lanzando campana: {campana}\")"
      ],
      "metadata": {
        "colab": {
          "base_uri": "https://localhost:8080/"
        },
        "id": "FI9eWHAJtnQX",
        "outputId": "e7996697-bec7-4bfa-ee4b-a08a75e9859f"
      },
      "execution_count": null,
      "outputs": [
        {
          "output_type": "stream",
          "name": "stdout",
          "text": [
            "Lanzando campana: Back to School\n",
            "Lanzando campana: Halloween Drop\n",
            "Lanzando campana: Black Friday\n"
          ]
        }
      ]
    },
    {
      "cell_type": "code",
      "source": [
        "marcas = [\"Void\", \"Noctane\", \"Higgins\", \"Black Mass\"]\n",
        "for marca in marcas:\n",
        "  print(f\"Analizando operaciones de {marca}\")"
      ],
      "metadata": {
        "colab": {
          "base_uri": "https://localhost:8080/"
        },
        "id": "lkxsiBq1AMiW",
        "outputId": "3b5b4265-2c7c-42df-fe10-d54e659e0d1d"
      },
      "execution_count": null,
      "outputs": [
        {
          "output_type": "stream",
          "name": "stdout",
          "text": [
            "Analizando operaciones de Void\n",
            "Analizando operaciones de Noctane\n",
            "Analizando operaciones de Higgins\n",
            "Analizando operaciones de Black Mass\n"
          ]
        }
      ]
    },
    {
      "cell_type": "code",
      "source": [
        "marcas = [\"Void\", \"Noctane\", \"Higgins\", \"Black Mass\"]\n",
        "margenes = [0.32, 0.27, 0.29, 0.36]\n",
        "print(\"EJERCICIO\")\n",
        "print()\n",
        "for marca, margen in zip(marcas, margenes):\n",
        "  if margen > 0.30:\n",
        "    print(f\"Marca: {marca} \\nMargen {margen:.0%} \\nBuen rendimiento\")\n",
        "    print()\n",
        "\n",
        "  else:\n",
        "    print(f\"Marca: {marca} \\nMargen {margen:.0%} \\nRevisar estrategia\")\n",
        "    print()"
      ],
      "metadata": {
        "colab": {
          "base_uri": "https://localhost:8080/"
        },
        "id": "xvQkdusRAmQr",
        "outputId": "5e3ab80e-3ee6-4b8a-c6ae-6b1d38b2449f"
      },
      "execution_count": null,
      "outputs": [
        {
          "output_type": "stream",
          "name": "stdout",
          "text": [
            "EJERCICIO\n",
            "\n",
            "Marca: Void \n",
            "Margen 32% \n",
            "Buen rendimiento\n",
            "\n",
            "Marca: Noctane \n",
            "Margen 27% \n",
            "Revisar estrategia\n",
            "\n",
            "Marca: Higgins \n",
            "Margen 29% \n",
            "Revisar estrategia\n",
            "\n",
            "Marca: Black Mass \n",
            "Margen 36% \n",
            "Buen rendimiento\n",
            "\n"
          ]
        }
      ]
    },
    {
      "cell_type": "code",
      "source": [
        "stock = 5\n",
        "while stock > 0:\n",
        "  print(f\"Vendiendo una unidad. Quedan {stock} en stock.\")\n",
        "  stock -= 1"
      ],
      "metadata": {
        "colab": {
          "base_uri": "https://localhost:8080/"
        },
        "id": "SVA-XnpSGBdZ",
        "outputId": "d6181ef2-88f2-4e7b-db0c-bd7c2e55aebc"
      },
      "execution_count": null,
      "outputs": [
        {
          "output_type": "stream",
          "name": "stdout",
          "text": [
            "Vendiendo una unidad. Quedan 5 en stock.\n",
            "Vendiendo una unidad. Quedan 4 en stock.\n",
            "Vendiendo una unidad. Quedan 3 en stock.\n",
            "Vendiendo una unidad. Quedan 2 en stock.\n",
            "Vendiendo una unidad. Quedan 1 en stock.\n"
          ]
        }
      ]
    },
    {
      "cell_type": "code",
      "source": [
        "presupuesto = 150000\n",
        "\n",
        "licencias = [\"Playeras edición limitada\", \"Sneakers colaborativos\", \"Chaquetas premium\", \"Accesorios firmados\"]\n",
        "costos = [40000, 70000, 60000, 20000]\n",
        "\n",
        "i = 0  # contador\n",
        "\n",
        "while presupuesto >= costos[i]:\n",
        "    print(f\"Lanzando licencia: {licencias[i]}\")\n",
        "    presupuesto -= costos[i]  # restamos el costo del presupuesto\n",
        "    i += 1  # pasamos a la siguiente licencia\n",
        "\n",
        "print(\"Presupuesto agotado.\")"
      ],
      "metadata": {
        "colab": {
          "base_uri": "https://localhost:8080/"
        },
        "id": "wKXx4-RFGy-E",
        "outputId": "fd269b8e-f347-480c-e862-5822b4289665"
      },
      "execution_count": null,
      "outputs": [
        {
          "output_type": "stream",
          "name": "stdout",
          "text": [
            "Lanzando licencia: Playeras edición limitada\n",
            "Lanzando licencia: Sneakers colaborativos\n",
            "Presupuesto agotado.\n"
          ]
        }
      ]
    },
    {
      "cell_type": "code",
      "source": [
        "tiendas = [\"Higgins Bogota\", \"Higgins Medellin\", \"Higgins Cali\", \"Higgins Barranquilla\"]\n",
        "\n",
        "i = 0\n",
        "\n",
        "while i < 4:\n",
        "  print(f\"Tienda en proceso de apertura: {tiendas[i]}\")\n",
        "\n",
        "  i += 1"
      ],
      "metadata": {
        "colab": {
          "base_uri": "https://localhost:8080/"
        },
        "id": "Hd9t3NpAPtV2",
        "outputId": "495e887c-4d8e-4679-f332-fc3f8237e147"
      },
      "execution_count": null,
      "outputs": [
        {
          "output_type": "stream",
          "name": "stdout",
          "text": [
            "Tienda en proceso de apertura: Higgins Bogota\n",
            "Tienda en proceso de apertura: Higgins Medellin\n",
            "Tienda en proceso de apertura: Higgins Cali\n",
            "Tienda en proceso de apertura: Higgins Barranquilla\n"
          ]
        }
      ]
    },
    {
      "cell_type": "code",
      "source": [
        "tiendas = [\"Void Kids\", \"Higgins Bogota\",\"Noctane Roma\", \"Black Mass Flagship\"]\n",
        "ventas_semanales = [450000, 600000, 480000, 750000]\n",
        "\n",
        "i = 0\n",
        "\n",
        "while i < len(tiendas):\n",
        "  if ventas_semanales[i] >= 500000:\n",
        "    print(f\"Tienda: {tiendas[i]} \\nVentas Ok: ${ventas_semanales[i]:,.2f}\")\n",
        "    print()\n",
        "\n",
        "  else:\n",
        "    print(f\"Tienda: {tiendas[i]}\\nVENTA BAJA: ${ventas_semanales[i]:,.2f}\")\n",
        "    print()\n",
        "  i += 1\n"
      ],
      "metadata": {
        "colab": {
          "base_uri": "https://localhost:8080/"
        },
        "id": "ERzdJ9LqV-1B",
        "outputId": "78b9c4dc-fed9-48bb-c57f-58e1ab2940d3"
      },
      "execution_count": 36,
      "outputs": [
        {
          "output_type": "stream",
          "name": "stdout",
          "text": [
            "Tienda: Void Kids\n",
            "VENTA BAJA: $450,000.00\n",
            "\n",
            "Tienda: Higgins Bogota \n",
            "Ventas Ok: $600,000.00\n",
            "\n",
            "Tienda: Noctane Roma\n",
            "VENTA BAJA: $480,000.00\n",
            "\n",
            "Tienda: Black Mass Flagship \n",
            "Ventas Ok: $750,000.00\n",
            "\n"
          ]
        }
      ]
    },
    {
      "cell_type": "code",
      "source": [
        "tiendas = [\"Void Kids\", \"Higgins Bogota\", \"Noctane Roma\", \"Black Mass Flagship\"]\n",
        "ventas_semanales = [450000, 600000, 480000, 750000]\n",
        "\n",
        "i = 0\n",
        "\n",
        "while i < len(tiendas):\n",
        "  if ventas_semanales[i] >= 500000:\n",
        "    print(f\"Tienda: {tiendas[i]} \\nVENTAS ALTAS: ${ventas_semanales[i]:,.2f}\")\n",
        "    print()\n",
        "  else:\n",
        "    print(f\"Tienda: {tiendas[i]} \\nVENTAS BAJAS: ${ventas_semanales[i]:,.2f}\")\n",
        "    print()\n",
        "  i += 1"
      ],
      "metadata": {
        "id": "mYRDUXX5Y_Ac",
        "colab": {
          "base_uri": "https://localhost:8080/"
        },
        "outputId": "5f67a5f2-3444-48df-a4c7-3100f1eec589"
      },
      "execution_count": 42,
      "outputs": [
        {
          "output_type": "stream",
          "name": "stdout",
          "text": [
            "Tienda: Void Kids \n",
            "VENTAS BAJAS: $450,000.00\n",
            "\n",
            "Tienda: Higgins Bogota \n",
            "VENTAS ALTAS: $600,000.00\n",
            "\n",
            "Tienda: Noctane Roma \n",
            "VENTAS BAJAS: $480,000.00\n",
            "\n",
            "Tienda: Black Mass Flagship \n",
            "VENTAS ALTAS: $750,000.00\n",
            "\n"
          ]
        }
      ]
    },
    {
      "cell_type": "code",
      "source": [
        "tiendas = [\"Void Kids\", \"Higgins Bogotá\", \"Noctane Roma\", \"Black Mass Flagship\"]\n",
        "ventas_semanales = [450000, 600000, 480000, 750000]\n",
        "costos_operativos = [300000, 400000, 350000, 500000]\n",
        "\n",
        "i = 0\n",
        "\n",
        "print(\"Reporte de utilidad semanal en tiendas Black Mass\")\n",
        "print()\n",
        "while i < len(tiendas):\n",
        "  utilidad = ventas_semanales[i] - costos_operativos[i]\n",
        "  if utilidad > 250000:\n",
        "    print(f\"Nombre de la tienda: {tiendas[i]} \\nVentas: ${ventas_semanales[i]:,.2f} \\nCostos: ${costos_operativos[i]:,.2f} \\nUtilidad: ${utilidad:,.2f} \\nClasificacion: Utilidad alta\")\n",
        "    print()\n",
        "  elif 150000 <= utilidad <= 250000:\n",
        "    print(f\"Nombre de la tienda: {tiendas[i]} \\nVentas: ${ventas_semanales[i]:,.2f} \\nCostos: ${costos_operativos[i]:,.2f} \\nUtilidad: ${utilidad:,.2f} \\nClasificacion: Utilidad media\")\n",
        "    print()\n",
        "  else:\n",
        "    print(f\"Nombre de la tienda: {tiendas[i]} \\nVentas: ${ventas_semanales[i]:,.2f} \\nCostos: ${costos_operativos[i]:,.2f} \\nUtilidad: ${utilidad:,.2f} \\nClasificacion: Utilidad baja\")\n",
        "    print()\n",
        "\n",
        "  i += 1"
      ],
      "metadata": {
        "colab": {
          "base_uri": "https://localhost:8080/"
        },
        "id": "LYlQHVAIh8Yz",
        "outputId": "7551e636-1ff2-4267-ba6f-c1851ce46746"
      },
      "execution_count": 47,
      "outputs": [
        {
          "output_type": "stream",
          "name": "stdout",
          "text": [
            "Reporte de utilidad semanal en tiendas Black Mass\n",
            "\n",
            "Nombre de la tienda: Void Kids \n",
            "Ventas: $450,000.00 \n",
            "Costos: $300,000.00 \n",
            "Utilidad: $150,000.00 \n",
            "Clasificacion: Utilidad media\n",
            "\n",
            "Nombre de la tienda: Higgins Bogotá \n",
            "Ventas: $600,000.00 \n",
            "Costos: $400,000.00 \n",
            "Utilidad: $200,000.00 \n",
            "Clasificacion: Utilidad media\n",
            "\n",
            "Nombre de la tienda: Noctane Roma \n",
            "Ventas: $480,000.00 \n",
            "Costos: $350,000.00 \n",
            "Utilidad: $130,000.00 \n",
            "Clasificacion: Utilidad baja\n",
            "\n",
            "Nombre de la tienda: Black Mass Flagship \n",
            "Ventas: $750,000.00 \n",
            "Costos: $500,000.00 \n",
            "Utilidad: $250,000.00 \n",
            "Clasificacion: Utilidad media\n",
            "\n"
          ]
        }
      ]
    },
    {
      "cell_type": "code",
      "source": [
        "presupuesto = 200000\n",
        "licencias = [\"Playeras edicion limitada\", \"Sneakers colaborativos\", \"Chaquetas premium\", \"Accesorios firmados\"]\n",
        "costos = [50000, 70000, 60000, 40000]\n",
        "\n",
        "i = 0\n",
        "\n",
        "print(\"Lanzamiento licencias Black Mass\")\n",
        "\n",
        "\n",
        "while i < len(licencias):\n",
        "  if presupuesto >= costos[i]:\n",
        "    print(f\"Lanzando licencia: {licencias[i]} \\nCosto: ${costos[i]:,.2f} \")\n",
        "    print()\n",
        "\n",
        "    presupuesto -= costos[i]\n",
        "\n",
        "    print(f\"Presupuesto restante: ${presupuesto:,.2f}\")\n",
        "\n",
        "    i += 1\n",
        "\n",
        "  else:\n",
        "    print(f\"Presupuesto agotado o insuficiente para la siguiente licencia\")\n",
        "\n",
        "    i += 1\n"
      ],
      "metadata": {
        "colab": {
          "base_uri": "https://localhost:8080/"
        },
        "id": "EIBL3QNymmXv",
        "outputId": "8ea6f4d2-09e2-4fbf-8f0d-0e01398dc1a4"
      },
      "execution_count": 19,
      "outputs": [
        {
          "output_type": "stream",
          "name": "stdout",
          "text": [
            "Lanzamiento licencias Black Mass\n",
            "Lanzando licencia: Playeras edicion limitada \n",
            "Costo: $50,000.00 \n",
            "\n",
            "Presupuesto restante: $150,000.00\n",
            "Lanzando licencia: Sneakers colaborativos \n",
            "Costo: $70,000.00 \n",
            "\n",
            "Presupuesto restante: $80,000.00\n",
            "Lanzando licencia: Chaquetas premium \n",
            "Costo: $60,000.00 \n",
            "\n",
            "Presupuesto restante: $20,000.00\n",
            "Presupuesto agotado o insuficiente para la siguiente licencia\n"
          ]
        }
      ]
    },
    {
      "cell_type": "code",
      "source": [
        "presupuesto = 200000\n",
        "licencias = [\"Playeras edicion limitada\", \"Sneakers colaborativos\", \"Chaquetas premium\", \"Accesorios firmados\"]\n",
        "costos = [50000, 70000, 60000, 40000]\n",
        "\n",
        "i = 0\n",
        "\n",
        "print(\"Lanzamiento licencias Black Mass\")\n",
        "\n",
        "\n",
        "while i < len(licencias) and presupuesto >= costos[i]:\n",
        "\n",
        "  print(f\"Lanzando licencia: {licencias[i]} \\nCosto: ${costos[i]:,.2f} \")\n",
        "  print()\n",
        "\n",
        "  presupuesto -= costos[i]\n",
        "\n",
        "  print(f\"Presupuesto restante: ${presupuesto:,.2f}\")\n",
        "\n",
        "  i += 1\n",
        "\n",
        "else:\n",
        "  print(f\"Presupuesto agotado o insuficiente para la siguiente licencia\")\n",
        "\n",
        "  i += 1"
      ],
      "metadata": {
        "colab": {
          "base_uri": "https://localhost:8080/"
        },
        "id": "IVmpIdM2O2fr",
        "outputId": "ac908ce0-0f60-4d53-8981-ebb75b8106f1"
      },
      "execution_count": 20,
      "outputs": [
        {
          "output_type": "stream",
          "name": "stdout",
          "text": [
            "Lanzamiento licencias Black Mass\n",
            "Lanzando licencia: Playeras edicion limitada \n",
            "Costo: $50,000.00 \n",
            "\n",
            "Presupuesto restante: $150,000.00\n",
            "Lanzando licencia: Sneakers colaborativos \n",
            "Costo: $70,000.00 \n",
            "\n",
            "Presupuesto restante: $80,000.00\n",
            "Lanzando licencia: Chaquetas premium \n",
            "Costo: $60,000.00 \n",
            "\n",
            "Presupuesto restante: $20,000.00\n",
            "Presupuesto agotado o insuficiente para la siguiente licencia\n"
          ]
        }
      ]
    },
    {
      "cell_type": "code",
      "source": [
        "impactos = [85, 65, 90] [:2]\n",
        "costos = [45000, 30000, 60000]\n",
        "ratings = [4, 5, 2]\n",
        "presupuesto_agotado = [False, False, True]\n",
        "\n",
        "i = 0\n",
        "\n",
        "while i < len(impactos):\n",
        "  if impactos[i] > 70 and costos[i] < 50000 and ratings[i] > 3 and not presupuesto_agotado[i]:\n",
        "    print(f\"Campana {i+1} : APROBADA\")\n",
        "\n",
        "    i += 1\n",
        "    print()\n",
        "  else:\n",
        "    print(f\"Campana {i+1}: RECHAZADA\")\n",
        "    print()\n",
        "\n",
        "    i += 1\n"
      ],
      "metadata": {
        "colab": {
          "base_uri": "https://localhost:8080/"
        },
        "id": "BuKAaZAjdZub",
        "outputId": "10cff684-6489-4b9c-9656-2c52cbd9cc4b"
      },
      "execution_count": 31,
      "outputs": [
        {
          "output_type": "stream",
          "name": "stdout",
          "text": [
            "Campana 1 : APROBADA\n",
            "\n",
            "Campana 2: RECHAZADA\n",
            "\n"
          ]
        }
      ]
    },
    {
      "cell_type": "code",
      "source": [
        "impacto = [70, 55, 80, 65]\n",
        "costo = [55000, 62000, 40000, 50000]\n",
        "rating = [4, 2, 5, 3]\n",
        "presupuesto_agotado = [False, False, False, True]\n",
        "\n",
        "i = 0\n",
        "\n",
        "while i < len(impacto):\n",
        "  if impacto[i] > 60 and rating[i] >= 3 and costo[i] < 60000 and not presupuesto_agotado[i]:\n",
        "    print(f\"Campana {i+1} : APROBADA\")\n",
        "    print()\n",
        "\n",
        "    i += 1\n",
        "  else:\n",
        "    print(f\"Campana {i+1} : RECHAZADA\")\n",
        "    print()\n",
        "\n",
        "    i += 1"
      ],
      "metadata": {
        "colab": {
          "base_uri": "https://localhost:8080/"
        },
        "id": "UZJ3FAvFjjxr",
        "outputId": "e5540fc5-0c3f-43c8-e453-a0cb99eaa0f8"
      },
      "execution_count": 43,
      "outputs": [
        {
          "output_type": "stream",
          "name": "stdout",
          "text": [
            "Campana 1 : APROBADA\n",
            "\n",
            "Campana 2 : RECHAZADA\n",
            "\n",
            "Campana 3 : APROBADA\n",
            "\n",
            "Campana 4 : RECHAZADA\n",
            "\n"
          ]
        }
      ]
    },
    {
      "cell_type": "code",
      "source": [
        "tiendas = [\"Higgins Bogota\", \"Higgins Cali\", \"Higgins Medellin\", \"Higgins Barranquilla\"]\n",
        "ventas = [600000, 450000, 300000, 520000]\n",
        "clientes_satisfechos = [False, False, False, True]\n",
        "\n",
        "i = 0\n",
        "\n",
        "print(\"EJERCICIO SIMPLE\")\n",
        "\n",
        "while i < len(tiendas):\n",
        "  if ventas[i] > 500000 or clientes_satisfechos[i]:\n",
        "    print(f\"Tienda: {tiendas[i]} \\nVentas: ${ventas[i]:,.0f} \\nTienda Destacada\")\n",
        "    print()\n",
        "    i += 1\n",
        "  else:\n",
        "    print(f\"Tienda: {tiendas[i]} \\nVentas: ${ventas[i]:,.0f} \\nTienda no Destacada\")\n",
        "    print()\n",
        "    i += 1\n"
      ],
      "metadata": {
        "colab": {
          "base_uri": "https://localhost:8080/"
        },
        "id": "RyN9gSLd4bJC",
        "outputId": "44eb7f7c-a2e8-4961-f10e-f8298419bbb2"
      },
      "execution_count": 58,
      "outputs": [
        {
          "output_type": "stream",
          "name": "stdout",
          "text": [
            "EJERCICIO SIMPLE\n",
            "Tienda: Higgins Bogota \n",
            "Ventas: $600,000 \n",
            "Tienda Destacada\n",
            "\n",
            "Tienda: Higgins Cali \n",
            "Ventas: $450,000 \n",
            "Tienda no Destacada\n",
            "\n",
            "Tienda: Higgins Medellin \n",
            "Ventas: $300,000 \n",
            "Tienda no Destacada\n",
            "\n",
            "Tienda: Higgins Barranquilla \n",
            "Ventas: $520,000 \n",
            "Tienda Destacada\n",
            "\n"
          ]
        }
      ]
    },
    {
      "cell_type": "code",
      "source": [],
      "metadata": {
        "id": "DQxnJi9tAqtV"
      },
      "execution_count": null,
      "outputs": []
    }
  ]
}